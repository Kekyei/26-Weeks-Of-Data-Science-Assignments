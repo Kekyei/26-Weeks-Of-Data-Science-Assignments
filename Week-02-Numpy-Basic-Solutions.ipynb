{
 "cells": [
  {
   "cell_type": "markdown",
   "source": [
    "## Mini Challenge - 1\n",
    "---\n",
    "\n",
    "\n",
    "Can you write a function square_root having default value of input a=9 and find the square-root of the same."
   ],
   "metadata": {
    "collapsed": false,
    "pycharm": {
     "name": "#%% md\n"
    }
   }
  },
  {
   "cell_type": "code",
   "execution_count": 1,
   "metadata": {
    "collapsed": true,
    "pycharm": {
     "name": "#%%\n"
    }
   },
   "outputs": [
    {
     "name": "stdout",
     "output_type": "stream",
     "text": [
      "81\n"
     ]
    }
   ],
   "source": [
    "def square_root(a = 9):\n",
    "    sq = a ** 2\n",
    "    print(sq)\n",
    "\n",
    "square_root()\n"
   ]
  },
  {
   "cell_type": "markdown",
   "source": [
    "## Mini Challenge - 2\n",
    "\n",
    "---\n",
    "Can you write a function function_tuple that takes in two numbers a and b and returns the sum as well as the product of these numbers"
   ],
   "metadata": {
    "collapsed": false,
    "pycharm": {
     "name": "#%% md\n"
    }
   }
  },
  {
   "cell_type": "code",
   "execution_count": 3,
   "outputs": [
    {
     "name": "stdout",
     "output_type": "stream",
     "text": [
      "20\n",
      "100\n"
     ]
    }
   ],
   "source": [
    "def function_tuple(a,b):\n",
    "    print(sum([a,b]))\n",
    "    print(a*b)\n",
    "\n",
    "function_tuple(10,10)"
   ],
   "metadata": {
    "collapsed": false,
    "pycharm": {
     "name": "#%%\n"
    }
   }
  },
  {
   "cell_type": "markdown",
   "source": [
    "## Mini Challenge - 3\n",
    "\n",
    "---\n",
    "Can you write a lambda function to add two numbers a and b."
   ],
   "metadata": {
    "collapsed": false,
    "pycharm": {
     "name": "#%% md\n"
    }
   }
  },
  {
   "cell_type": "code",
   "execution_count": 6,
   "outputs": [
    {
     "name": "stdout",
     "output_type": "stream",
     "text": [
      "3\n"
     ]
    }
   ],
   "source": [
    "a = lambda a,b : a + b\n",
    "print(a(2,1))"
   ],
   "metadata": {
    "collapsed": false,
    "pycharm": {
     "name": "#%%\n"
    }
   }
  },
  {
   "cell_type": "markdown",
   "source": [
    "## Mini Challenge - 4\n",
    "\n",
    "---\n",
    "Create a matrix from the list of lists [[5.3, 10.2, 15.1], [20.4, 25.3, 30.9], [35.4, 40.1,45.6]]. Print the dtype and shape."
   ],
   "metadata": {
    "collapsed": false,
    "pycharm": {
     "name": "#%% md\n"
    }
   }
  },
  {
   "cell_type": "code",
   "execution_count": 7,
   "outputs": [
    {
     "data": {
      "text/plain": "array([[ 5.3, 10.2, 15.1],\n       [20.4, 25.3, 30.9],\n       [35.4, 40.1, 45.6]])"
     },
     "execution_count": 7,
     "metadata": {},
     "output_type": "execute_result"
    }
   ],
   "source": [
    "import numpy as np\n",
    "matrix = np.array([[5.3, 10.2, 15.1], [20.4, 25.3, 30.9], [35.4, 40.1,45.6]])\n",
    "matrix"
   ],
   "metadata": {
    "collapsed": false,
    "pycharm": {
     "name": "#%%\n"
    }
   }
  },
  {
   "cell_type": "code",
   "execution_count": 8,
   "outputs": [
    {
     "name": "stdout",
     "output_type": "stream",
     "text": [
      "float64\n",
      "(3, 3)\n"
     ]
    }
   ],
   "source": [
    "print(matrix.dtype)\n",
    "print(matrix.shape)"
   ],
   "metadata": {
    "collapsed": false,
    "pycharm": {
     "name": "#%%\n"
    }
   }
  },
  {
   "cell_type": "markdown",
   "source": [
    "## Mini Challenge - 5\n",
    "\n",
    "---\n",
    "Create an ndimensional array from randomly genrated numbers of shape (3,4), then rehape the array to (4,3)"
   ],
   "metadata": {
    "collapsed": false,
    "pycharm": {
     "name": "#%% md\n"
    }
   }
  },
  {
   "cell_type": "code",
   "execution_count": 10,
   "outputs": [
    {
     "data": {
      "text/plain": "array([[0.37372156, 0.56563227, 0.90459376],\n       [0.12673734, 0.39258513, 0.58005755],\n       [0.84415886, 0.80524625, 0.13506158],\n       [0.56276092, 0.50331522, 0.80257346]])"
     },
     "execution_count": 10,
     "metadata": {},
     "output_type": "execute_result"
    }
   ],
   "source": [
    "import random\n",
    "import numpy as np\n",
    "\n",
    "array = np.random.rand(3,4)\n",
    "\n",
    "# Reshape the array to (4, 3)\n",
    "array = array.reshape(4, 3)\n",
    "array"
   ],
   "metadata": {
    "collapsed": false,
    "pycharm": {
     "name": "#%%\n"
    }
   }
  }
 ],
 "metadata": {
  "kernelspec": {
   "display_name": "Python 3",
   "language": "python",
   "name": "python3"
  },
  "language_info": {
   "codemirror_mode": {
    "name": "ipython",
    "version": 2
   },
   "file_extension": ".py",
   "mimetype": "text/x-python",
   "name": "python",
   "nbconvert_exporter": "python",
   "pygments_lexer": "ipython2",
   "version": "2.7.6"
  }
 },
 "nbformat": 4,
 "nbformat_minor": 0
}